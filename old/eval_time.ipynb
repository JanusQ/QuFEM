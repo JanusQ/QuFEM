{
 "cells": [
  {
   "cell_type": "code",
   "execution_count": 76,
   "metadata": {},
   "outputs": [],
   "source": [
    "# import\n",
    "from collections import defaultdict\n",
    "from functools import lru_cache\n",
    "from tqdm import tqdm\n",
    "import qiskit.circuit.random\n",
    "import scipy.io as sio\n",
    "import random\n",
    "from qiskit.ignis.mitigation.measurement import complete_meas_cal, CompleteMeasFitter\n",
    "import numpy as np\n",
    "import scipy.linalg as la\n",
    "from qiskit.quantum_info import hellinger_fidelity\n",
    "from qiskit.result import LocalReadoutMitigator\n",
    "from qiskit.visualization import plot_histogram\n",
    "from qiskit import QuantumCircuit\n",
    "import matplotlib.pyplot as plt\n",
    "import jax\n",
    "from qiskit.result import Counts\n",
    "from jax import numpy as jnp\n",
    "from jax import vmap\n",
    "from qiskit_aer import AerSimulator\n",
    "# from jax import random\n",
    "from qiskit_aer.noise import NoiseModel, ReadoutError\n",
    "import random\n",
    "import math\n",
    "import time\n",
    "import psutil\n",
    "import os"
   ]
  },
  {
   "cell_type": "code",
   "execution_count": null,
   "metadata": {},
   "outputs": [],
   "source": [
    "# # def cartesian_coord(arr1, arr2):\n",
    "# #     grid = np.meshgrid(arr2, arr1)\n",
    "# #     coord_list = [entry.ravel() for entry in grid]\n",
    "# #     points = np.vstack(coord_list).T\n",
    "# #     return points\n",
    "\n",
    "# # @jax.jit\n",
    "# def kron_basis(arr1, arr2):\n",
    "#     grid = jnp.meshgrid(arr2, arr1)\n",
    "#     return grid[1].ravel() << 1 | grid[0].ravel()\n",
    "\n",
    "\n",
    "# basis_1q = jnp.array([[0, 1], [1, 0]])\n",
    "    \n",
    "# @jax.jit\n",
    "# def process_sample(local_basis, qubit, now_basis, now_values, all_local_vecs, threshold): \n",
    "#     next_basis = kron_basis(now_basis, basis_1q[local_basis])\n",
    "#     next_values = jnp.kron(now_values, all_local_vecs[qubit][local_basis])\n",
    "#     filter = jnp.logical_or(next_values > threshold, next_values < -threshold)\n",
    "#     return next_basis, next_values, filter\n",
    "\n",
    "# def sw_rm(qnum, stats_counts, meas_mats_inv, threshold=1e-10):\n",
    "#     all_local_vecs = np.zeros(shape=(qnum, 2, 2))\n",
    "\n",
    "#     for qubit in range(qnum):\n",
    "#         for local_basis in (0, 1):\n",
    "#             local_vec = np.zeros(2)\n",
    "#             local_vec[local_basis] = 1\n",
    "#             local_vec = meas_mats_inv[qubit] @ local_vec\n",
    "#             all_local_vecs[qubit][local_basis] = local_vec\n",
    "\n",
    "#     all_local_vecs = jnp.array(all_local_vecs)\n",
    "\n",
    "\n",
    "#     rm_prob = defaultdict(float)\n",
    "#     # for basis, count in tqdm(stats_counts.items()):\n",
    "#     for basis, count in stats_counts.items():\n",
    "#         basis = jnp.array([int(c) for c in basis])\n",
    "\n",
    "#         now_basis = basis_1q[basis[0]]\n",
    "#         now_values = all_local_vecs[0][basis[0]] * count\n",
    "        \n",
    "#         for qubit in range(1, qnum):\n",
    "#             next_basis, next_values, filter = process_sample(basis[qubit], qubit, now_basis, now_values, all_local_vecs, threshold)\n",
    "#             now_basis, now_values = next_basis[filter], next_values[filter]\n",
    "\n",
    "#         for basis, value in zip(now_basis, now_values):\n",
    "#             basis = int(basis)\n",
    "#             # print(basis, value)\n",
    "#             rm_prob[basis] += value\n",
    "\n",
    "#     sum_prob = sum(rm_prob.values())\n",
    "#     rm_prob = {\n",
    "#         basis: value / sum_prob\n",
    "#         for basis, value in rm_prob.items()\n",
    "#     }\n",
    "#     return rm_prob"
   ]
  },
  {
   "cell_type": "code",
   "execution_count": 73,
   "metadata": {},
   "outputs": [],
   "source": [
    "# def cartesian_coord(arr1, arr2):\n",
    "#     grid = np.meshgrid(arr2, arr1)\n",
    "#     coord_list = [entry.ravel() for entry in grid]\n",
    "#     points = np.vstack(coord_list).T\n",
    "#     return points\n",
    "\n",
    "\n",
    "def kron_basis(arr1, arr2):\n",
    "    grid = np.meshgrid(arr2, arr1)\n",
    "    return grid[1].ravel() << 1 | grid[0].ravel()\n",
    "\n",
    "def sw_rm(qnum, stats_counts, meas_mats_inv, threshold=1e-10):\n",
    "    all_local_vecs = np.zeros(shape=(qnum, 2, 2))\n",
    "\n",
    "    for qubit in range(qnum):\n",
    "        for local_basis in (0, 1):\n",
    "            local_vec = np.zeros(2)\n",
    "            local_vec[local_basis] = 1\n",
    "            local_vec = meas_mats_inv[qubit] @ local_vec\n",
    "            all_local_vecs[qubit][local_basis] = local_vec\n",
    "\n",
    "    basis_1q = jnp.array([[0, 1], [1, 0]])\n",
    "\n",
    "    rm_prob = defaultdict(float)\n",
    "    # for basis, count in tqdm(stats_counts.items()):\n",
    "    for basis, count in stats_counts.items():\n",
    "        basis = [int(c) for c in basis]\n",
    "\n",
    "        now_basis = basis_1q[basis[0]]\n",
    "        now_values = all_local_vecs[0][basis[0]] * count\n",
    "\n",
    "        for qubit in range(1, qnum):\n",
    "            next_basis = kron_basis(now_basis, basis_1q[basis[0]])\n",
    "            next_values = np.kron(now_values, all_local_vecs[qubit][basis[qubit]])\n",
    "            \n",
    "            filter = np.logical_or(next_values > threshold, next_values < -threshold)\n",
    "            now_basis = next_basis[filter]\n",
    "            now_values = next_values[filter]\n",
    "\n",
    "        for basis, value in zip(now_basis, now_values):\n",
    "            rm_prob[basis] += value\n",
    "\n",
    "    sum_prob = sum(rm_prob.values())\n",
    "    rm_prob = {\n",
    "        basis: value / sum_prob\n",
    "        for basis, value in rm_prob.items()\n",
    "    }\n",
    "    return rm_prob"
   ]
  },
  {
   "cell_type": "code",
   "execution_count": 74,
   "metadata": {},
   "outputs": [
    {
     "name": "stdout",
     "output_type": "stream",
     "text": [
      "5\n",
      "6\n",
      "7\n",
      "8\n",
      "9\n",
      "10\n",
      "11\n",
      "12\n",
      "13\n",
      "14\n",
      "15\n",
      "16\n",
      "17\n",
      "18\n",
      "19\n",
      "20\n",
      "21\n",
      "22\n",
      "23\n",
      "24\n",
      "25\n",
      "26\n",
      "27\n",
      "28\n",
      "29\n",
      "30\n",
      "31\n",
      "32\n",
      "33\n",
      "34\n",
      "35\n",
      "36\n",
      "37\n",
      "38\n",
      "39\n",
      "40\n",
      "41\n",
      "42\n",
      "43\n",
      "44\n",
      "45\n",
      "46\n",
      "47\n",
      "48\n",
      "49\n",
      "50\n",
      "51\n",
      "52\n",
      "53\n",
      "54\n",
      "55\n",
      "56\n",
      "57\n",
      "58\n",
      "59\n",
      "60\n",
      "61\n",
      "62\n",
      "63\n",
      "64\n",
      "65\n",
      "66\n",
      "67\n",
      "68\n",
      "69\n"
     ]
    }
   ],
   "source": [
    "def ghz(n_qubits):\n",
    "    cir = QuantumCircuit(n_qubits)\n",
    "    cir.h(0)\n",
    "    for i in range(n_qubits - 1):\n",
    "        cir.cx(i, i + 1)\n",
    "    cir.measure_all()\n",
    "    return cir\n",
    "\n",
    "time_qiskit = []\n",
    "time_sw = []\n",
    "space_qiskit = []\n",
    "space_sw = []\n",
    "\n",
    "for n_qubits in range(5, 70):\n",
    "    print(n_qubits)\n",
    "    measure_fids = np.random.random(size=(n_qubits, 2))\n",
    "    measure_fids = np.abs(measure_fids) / 10 + .9\n",
    "    noise_model = NoiseModel()\n",
    "\n",
    "    for i in range(n_qubits):\n",
    "        re = ReadoutError([[measure_fids[i][0], 1 - measure_fids[i][0]],\n",
    "                           [1 - measure_fids[i][1], measure_fids[i][1]]])\n",
    "        noise_model.add_readout_error(re, qubits=[i])\n",
    "    simulator = AerSimulator(noise_model=noise_model)\n",
    "    noise_free_simulator = AerSimulator()\n",
    "    \n",
    "    n_samples = 3000\n",
    "    before_rm_counts = simulator.run(\n",
    "        ghz(n_qubits), shots=n_samples).result().get_counts()\n",
    "    \n",
    "    meas_mats, meas_mats_inv = [], []\n",
    "    for qubit in range(n_qubits):\n",
    "        meas_mat = np.array([[\n",
    "            measure_fids[qubit][0], 1-measure_fids[qubit][1]],\n",
    "            [1-measure_fids[qubit][0], measure_fids[qubit][1]]\n",
    "        ])\n",
    "        meas_mats.append(meas_mat)\n",
    "        meas_mats_inv.append(np.linalg.inv(meas_mat))\n",
    "\n",
    "    # if n_qubits < 16:\n",
    "    #     mit = LocalReadoutMitigator(meas_mats, list(range(n_qubits)))\n",
    "        \n",
    "    #     start_time = time.time()\n",
    "    #     qiskit_rm_prob = mit.quasi_probabilities(before_rm_counts)\n",
    "    #     qiskit_rm_prob = {\n",
    "    #         basis: value\n",
    "    #         for basis, value in qiskit_rm_prob.items()\n",
    "    #         if value > 1e-3\n",
    "    #     }\n",
    "    #     time_qiskit.append(time.time() - start_time)\n",
    "        \n",
    "    start_time = time.time()\n",
    "    rm_prob = sw_rm(n_qubits, before_rm_counts, meas_mats_inv, threshold=n_samples * 1e-5)\n",
    "    time_sw.append(time.time() - start_time)\n",
    "    "
   ]
  },
  {
   "cell_type": "code",
   "execution_count": null,
   "metadata": {},
   "outputs": [],
   "source": [
    "# time_sw = [time_sw[i] for i in range(70)]\n",
    "plt.plot(list(range(len(time_qiskit))), time_qiskit)\n",
    "plt.plot(list(range(len(time_sw))), time_sw)\n",
    "plt.xlabel(\"Qubit\")\n",
    "plt.ylabel(\"Time (s)\")\n",
    "plt.yscale('log')"
   ]
  },
  {
   "cell_type": "code",
   "execution_count": 75,
   "metadata": {},
   "outputs": [
    {
     "data": {
      "image/png": "[encoded data removed]",
      "text/plain": [
       "<Figure size 432x288 with 1 Axes>"
      ]
     },
     "metadata": {
      "needs_background": "light"
     },
     "output_type": "display_data"
    }
   ],
   "source": [
    "# time_sw = [time_sw[i] for i in range(70)]\n",
    "plt.plot(list(range(len(time_qiskit))), time_qiskit)\n",
    "plt.plot(list(range(len(time_sw))), time_sw)\n",
    "plt.xlabel(\"Qubit\")\n",
    "plt.ylabel(\"Time (s)\")\n",
    "plt.yscale('log')"
   ]
  },
  {
   "cell_type": "code",
   "execution_count": null,
   "metadata": {},
   "outputs": [
    {
     "data": {
      "image/png": "[encoded data removed]",
      "text/plain": [
       "<Figure size 432x288 with 1 Axes>"
      ]
     },
     "metadata": {
      "needs_background": "light"
     },
     "output_type": "display_data"
    }
   ],
   "source": [
    "time_sw = [time_sw[i] for i in range(70)]\n",
    "plt.plot(list(range(len(time_qiskit))), time_qiskit)\n",
    "plt.plot(list(range(len(time_sw))), time_sw)\n",
    "plt.xlabel(\"Qubit\")\n",
    "plt.ylabel(\"Time (s)\")\n",
    "plt.yscale('log')"
   ]
  },
  {
   "cell_type": "code",
   "execution_count": 39,
   "metadata": {},
   "outputs": [
    {
     "name": "stdout",
     "output_type": "stream",
     "text": [
      "[4 6 5 7]\n"
     ]
    },
    {
     "data": {
      "text/plain": [
       "(array([[2, 0],\n",
       "        [3, 0],\n",
       "        [2, 1],\n",
       "        [3, 1]]),\n",
       " array([0, 0, 2, 3]))"
      ]
     },
     "execution_count": 39,
     "metadata": {},
     "output_type": "execute_result"
    }
   ],
   "source": [
    "import numpy as np\n",
    "# np.kron()\n",
    "a = np.array([0, 1])\n",
    "b = np.array([2, 3])\n",
    "# np.tensordot(a, a)\n",
    "\n",
    "def cartesian_coord(arr1, arr2):\n",
    "    grid = np.meshgrid(arr2, arr1)\n",
    "    coord_list = [entry.ravel() for entry in grid]\n",
    "    # print(coord_list[0] << 1 | coord_list[0])\n",
    "    print(coord_list[0] << 1 | coord_list[1])\n",
    "    points = np.vstack(coord_list).T\n",
    "    return points\n",
    "\n",
    "cartesian_coord(a, b), np.kron(a, b)\n"
   ]
  },
  {
   "cell_type": "code",
   "execution_count": 82,
   "metadata": {},
   "outputs": [
    {
     "data": {
      "text/plain": [
       "array([[0.82 , 0.14 ],\n",
       "       [0.14 , 0.905]])"
      ]
     },
     "execution_count": 82,
     "metadata": {},
     "output_type": "execute_result"
    }
   ],
   "source": [
    "import scipy as sp\n",
    "def nearest_unitary(A):\n",
    "    \"\"\"\n",
    "    Calculate the closest unitary to a given matrix.\n",
    "\n",
    "    Calculate the unitary matrix U that is closest with respect to the\n",
    "    operator norm distance to the general matrix A.\n",
    "\n",
    "    D.M.Reich. \"Characterisation and Identification of Unitary Dynamics\n",
    "    Maps in Terms of Their Action on Density Matrices\"\n",
    "\n",
    "    Args:\n",
    "        A (np.ndarray): The matrix input.\n",
    "\n",
    "    Returns:\n",
    "        (np.ndarray): The unitary matrix closest to A.\n",
    "        Return U as a numpy matrix.\n",
    "\n",
    "    Thank you to Ed Younis, this is based on code from baseline.qfast\n",
    "    \"\"\"\n",
    "    try:\n",
    "        if len(A.shape) == 2 and A.shape[0] != A.shape[1]:\n",
    "            raise TypeError(\"A must be a square matrix.\")\n",
    "\n",
    "        V, __, Wh = sp.linalg.svd(A)\n",
    "        U = np.array(V.dot(Wh))\n",
    "        return U\n",
    "    except Exception:\n",
    "        return A\n",
    "    \n",
    "measure_fids0 = 0.90\n",
    "measure_fids1 = 0.95\n",
    "M = np.array([[measure_fids0, 1 - measure_fids0],\n",
    "    [1 - measure_fids1, measure_fids1]])\n",
    "M @ M.T.conj()\n"
   ]
  },
  {
   "cell_type": "code",
   "execution_count": 84,
   "metadata": {},
   "outputs": [
    {
     "data": {
      "text/plain": [
       "array([[1.00000000e+00, 1.64340319e-16],\n",
       "       [1.64340319e-16, 1.00000000e+00]])"
      ]
     },
     "execution_count": 84,
     "metadata": {},
     "output_type": "execute_result"
    }
   ],
   "source": [
    "uM = nearest_unitary(M)\n",
    "uM @ uM.T.conj()"
   ]
  },
  {
   "cell_type": "code",
   "execution_count": 85,
   "metadata": {},
   "outputs": [
    {
     "data": {
      "text/plain": [
       "(array([[0.9 , 0.1 ],\n",
       "        [0.05, 0.95]]),\n",
       " array([[ 0.99963497,  0.02701716],\n",
       "        [-0.02701716,  0.99963497]]))"
      ]
     },
     "execution_count": 85,
     "metadata": {},
     "output_type": "execute_result"
    }
   ],
   "source": [
    "M, uM"
   ]
  },
  {
   "cell_type": "code",
   "execution_count": 87,
   "metadata": {},
   "outputs": [
    {
     "data": {
      "text/plain": [
       "array([[[1, 0, 0, ..., 1, 1, 0],\n",
       "        [1, 0, 0, ..., 1, 1, 0],\n",
       "        [1, 0, 0, ..., 1, 1, 0],\n",
       "        ...,\n",
       "        [0, 0, 1, ..., 0, 1, 0],\n",
       "        [0, 1, 0, ..., 0, 0, 1],\n",
       "        [0, 0, 1, ..., 0, 1, 0]],\n",
       "\n",
       "       [[1, 0, 0, ..., 1, 1, 0],\n",
       "        [1, 0, 0, ..., 1, 1, 0],\n",
       "        [1, 0, 0, ..., 1, 0, 0],\n",
       "        ...,\n",
       "        [0, 1, 0, ..., 0, 1, 1],\n",
       "        [1, 0, 0, ..., 1, 1, 1],\n",
       "        [0, 1, 0, ..., 1, 0, 1]],\n",
       "\n",
       "       [[1, 0, 0, ..., 1, 1, 0],\n",
       "        [1, 0, 0, ..., 0, 1, 0],\n",
       "        [1, 0, 0, ..., 1, 1, 0],\n",
       "        ...,\n",
       "        [1, 0, 1, ..., 0, 1, 1],\n",
       "        [1, 1, 1, ..., 0, 0, 0],\n",
       "        [0, 1, 1, ..., 1, 0, 0]],\n",
       "\n",
       "       ...,\n",
       "\n",
       "       [[1, 0, 0, ..., 1, 1, 0],\n",
       "        [0, 0, 0, ..., 1, 1, 0],\n",
       "        [1, 0, 0, ..., 1, 1, 0],\n",
       "        ...,\n",
       "        [1, 0, 0, ..., 0, 0, 0],\n",
       "        [0, 1, 1, ..., 1, 0, 1],\n",
       "        [1, 0, 1, ..., 1, 0, 1]],\n",
       "\n",
       "       [[1, 0, 0, ..., 1, 1, 0],\n",
       "        [1, 1, 0, ..., 1, 1, 0],\n",
       "        [1, 0, 0, ..., 1, 1, 0],\n",
       "        ...,\n",
       "        [1, 1, 0, ..., 1, 1, 1],\n",
       "        [1, 1, 0, ..., 0, 1, 1],\n",
       "        [1, 1, 1, ..., 0, 0, 0]],\n",
       "\n",
       "       [[1, 0, 0, ..., 1, 1, 0],\n",
       "        [1, 0, 0, ..., 1, 1, 0],\n",
       "        [0, 1, 0, ..., 1, 0, 0],\n",
       "        ...,\n",
       "        [0, 0, 1, ..., 1, 1, 0],\n",
       "        [1, 0, 1, ..., 0, 0, 0],\n",
       "        [1, 0, 0, ..., 1, 1, 1]]], dtype=uint8)"
      ]
     },
     "execution_count": 87,
     "metadata": {},
     "output_type": "execute_result"
    }
   ],
   "source": [
    "\n",
    "import scipy.io as sio\n",
    "import numpy as np\n",
    "import matplotlib\n",
    "import matplotlib.pyplot as plt\n",
    "import itertools\n",
    "from collections import defaultdict\n",
    "from tqdm import tqdm\n",
    "\n",
    "from jax import numpy as jnp\n",
    "import jax\n",
    "import time\n",
    "from functools import lru_cache\n",
    "from line_profiler import LineProfiler\n",
    "\n",
    "qnum = 24\n",
    "stats01s = sio.loadmat(f'{qnum}qubit_data/stats_0.mat')['stats01s']\n",
    "stats01s"
   ]
  },
  {
   "cell_type": "code",
   "execution_count": null,
   "metadata": {},
   "outputs": [],
   "source": []
  }
 ],
 "metadata": {
  "kernelspec": {
   "display_name": "tf2",
   "language": "python",
   "name": "python3"
  },
  "language_info": {
   "codemirror_mode": {
    "name": "ipython",
    "version": 3
   },
   "file_extension": ".py",
   "mimetype": "text/x-python",
   "name": "python",
   "nbconvert_exporter": "python",
   "pygments_lexer": "ipython3",
   "version": "3.8.13"
  },
  "orig_nbformat": 4
 },
 "nbformat": 4,
 "nbformat_minor": 2
}
